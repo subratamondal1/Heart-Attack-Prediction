{
 "cells": [
  {
   "cell_type": "markdown",
   "id": "4a566cb6",
   "metadata": {},
   "source": [
    "# <center>Heart Attack</center>\n",
    "---"
   ]
  },
  {
   "cell_type": "markdown",
   "id": "ef82c5dd",
   "metadata": {},
   "source": [
    "# 1. Business Understanding"
   ]
  },
  {
   "cell_type": "markdown",
   "id": "f5cbacc7",
   "metadata": {},
   "source": [
    "# 2. Setup"
   ]
  },
  {
   "cell_type": "markdown",
   "id": "a4fa4239",
   "metadata": {},
   "source": [
    "### 2.1 Import Libraries"
   ]
  },
  {
   "cell_type": "code",
   "execution_count": 1,
   "id": "e6725ce6",
   "metadata": {},
   "outputs": [],
   "source": [
    "import numpy as np\n",
    "import pandas as pd\n",
    "import matplotlib.pyplot as plt\n",
    "import seaborn as sns\n",
    "sns.set()\n",
    "\n",
    "import sklearn\n",
    "import sklearn.linear_model as linear_model\n",
    "import sklearn.tree as tree\n",
    "import sklearn.ensemble as ensemble\n",
    "\n",
    "import sklearn.preprocessing as preprocessing\n",
    "import sklearn.model_selection as model_selection\n",
    "import sklearn.feature_selection as feature_selection\n",
    "import sklearn.metrics as metrics"
   ]
  },
  {
   "cell_type": "markdown",
   "id": "3eddf2a7",
   "metadata": {},
   "source": [
    "## 2.2 Import Data"
   ]
  },
  {
   "cell_type": "code",
   "execution_count": 2,
   "id": "621bca47",
   "metadata": {},
   "outputs": [],
   "source": [
    "data = pd.read_csv(\"data/heart.csv\")"
   ]
  },
  {
   "cell_type": "code",
   "execution_count": 3,
   "id": "a7ac93c1",
   "metadata": {},
   "outputs": [
    {
     "data": {
      "text/plain": [
       "(303, 14)"
      ]
     },
     "execution_count": 3,
     "metadata": {},
     "output_type": "execute_result"
    }
   ],
   "source": [
    "data.shape"
   ]
  },
  {
   "cell_type": "code",
   "execution_count": 4,
   "id": "3f88c191",
   "metadata": {},
   "outputs": [
    {
     "data": {
      "text/html": [
       "<div>\n",
       "<style scoped>\n",
       "    .dataframe tbody tr th:only-of-type {\n",
       "        vertical-align: middle;\n",
       "    }\n",
       "\n",
       "    .dataframe tbody tr th {\n",
       "        vertical-align: top;\n",
       "    }\n",
       "\n",
       "    .dataframe thead th {\n",
       "        text-align: right;\n",
       "    }\n",
       "</style>\n",
       "<table border=\"1\" class=\"dataframe\">\n",
       "  <thead>\n",
       "    <tr style=\"text-align: right;\">\n",
       "      <th></th>\n",
       "      <th>age</th>\n",
       "      <th>sex</th>\n",
       "      <th>cp</th>\n",
       "      <th>trtbps</th>\n",
       "      <th>chol</th>\n",
       "      <th>fbs</th>\n",
       "      <th>restecg</th>\n",
       "      <th>thalachh</th>\n",
       "      <th>exng</th>\n",
       "      <th>oldpeak</th>\n",
       "      <th>slp</th>\n",
       "      <th>caa</th>\n",
       "      <th>thall</th>\n",
       "      <th>output</th>\n",
       "    </tr>\n",
       "  </thead>\n",
       "  <tbody>\n",
       "    <tr>\n",
       "      <th>0</th>\n",
       "      <td>63</td>\n",
       "      <td>1</td>\n",
       "      <td>3</td>\n",
       "      <td>145</td>\n",
       "      <td>233</td>\n",
       "      <td>1</td>\n",
       "      <td>0</td>\n",
       "      <td>150</td>\n",
       "      <td>0</td>\n",
       "      <td>2.3</td>\n",
       "      <td>0</td>\n",
       "      <td>0</td>\n",
       "      <td>1</td>\n",
       "      <td>1</td>\n",
       "    </tr>\n",
       "    <tr>\n",
       "      <th>1</th>\n",
       "      <td>37</td>\n",
       "      <td>1</td>\n",
       "      <td>2</td>\n",
       "      <td>130</td>\n",
       "      <td>250</td>\n",
       "      <td>0</td>\n",
       "      <td>1</td>\n",
       "      <td>187</td>\n",
       "      <td>0</td>\n",
       "      <td>3.5</td>\n",
       "      <td>0</td>\n",
       "      <td>0</td>\n",
       "      <td>2</td>\n",
       "      <td>1</td>\n",
       "    </tr>\n",
       "    <tr>\n",
       "      <th>2</th>\n",
       "      <td>41</td>\n",
       "      <td>0</td>\n",
       "      <td>1</td>\n",
       "      <td>130</td>\n",
       "      <td>204</td>\n",
       "      <td>0</td>\n",
       "      <td>0</td>\n",
       "      <td>172</td>\n",
       "      <td>0</td>\n",
       "      <td>1.4</td>\n",
       "      <td>2</td>\n",
       "      <td>0</td>\n",
       "      <td>2</td>\n",
       "      <td>1</td>\n",
       "    </tr>\n",
       "    <tr>\n",
       "      <th>3</th>\n",
       "      <td>56</td>\n",
       "      <td>1</td>\n",
       "      <td>1</td>\n",
       "      <td>120</td>\n",
       "      <td>236</td>\n",
       "      <td>0</td>\n",
       "      <td>1</td>\n",
       "      <td>178</td>\n",
       "      <td>0</td>\n",
       "      <td>0.8</td>\n",
       "      <td>2</td>\n",
       "      <td>0</td>\n",
       "      <td>2</td>\n",
       "      <td>1</td>\n",
       "    </tr>\n",
       "    <tr>\n",
       "      <th>4</th>\n",
       "      <td>57</td>\n",
       "      <td>0</td>\n",
       "      <td>0</td>\n",
       "      <td>120</td>\n",
       "      <td>354</td>\n",
       "      <td>0</td>\n",
       "      <td>1</td>\n",
       "      <td>163</td>\n",
       "      <td>1</td>\n",
       "      <td>0.6</td>\n",
       "      <td>2</td>\n",
       "      <td>0</td>\n",
       "      <td>2</td>\n",
       "      <td>1</td>\n",
       "    </tr>\n",
       "  </tbody>\n",
       "</table>\n",
       "</div>"
      ],
      "text/plain": [
       "   age  sex  cp  trtbps  chol  fbs  restecg  thalachh  exng  oldpeak  slp  \\\n",
       "0   63    1   3     145   233    1        0       150     0      2.3    0   \n",
       "1   37    1   2     130   250    0        1       187     0      3.5    0   \n",
       "2   41    0   1     130   204    0        0       172     0      1.4    2   \n",
       "3   56    1   1     120   236    0        1       178     0      0.8    2   \n",
       "4   57    0   0     120   354    0        1       163     1      0.6    2   \n",
       "\n",
       "   caa  thall  output  \n",
       "0    0      1       1  \n",
       "1    0      2       1  \n",
       "2    0      2       1  \n",
       "3    0      2       1  \n",
       "4    0      2       1  "
      ]
     },
     "execution_count": 4,
     "metadata": {},
     "output_type": "execute_result"
    }
   ],
   "source": [
    "data.head()"
   ]
  },
  {
   "cell_type": "markdown",
   "id": "e4f704e9",
   "metadata": {},
   "source": [
    "### 2.3 Data Dictionary"
   ]
  },
  {
   "cell_type": "markdown",
   "id": "00195496",
   "metadata": {},
   "source": [
    "* **Age:** Age of the patient\n",
    "\n",
    "* **Sex:** Sex of the patient\n",
    "\n",
    "    * Value 0: Female\n",
    "    * Value 1: Male\n",
    "\n",
    "* **cp:** Chest Pain type\n",
    "\n",
    "    * Value 0: typical angina\n",
    "    * Value 1: atypical angina\n",
    "    * Value 2: non-anginal pain\n",
    "    * Value 3: asymptomatic\n",
    "\n",
    "* **trtbps:** resting blood pressure (in mm Hg)\n",
    "\n",
    "* **chol:** cholesterol in mg/dl fetched via BMI sensor\n",
    "\n",
    "* **fbs:** (fasting blood sugar > 120 mg/dl)\n",
    "\n",
    "    * Value 1 = true\n",
    "    * Value 0 = false\n",
    "* **rest_ecg:** resting electrocardiographic results\n",
    "\n",
    "    * Value 0: normal\n",
    "    * Value 1: having ST-T wave abnormality (T wave inversions and/or ST elevation or depression of > 0.05 mV)\n",
    "    * Value 2: Hypertrophy by Estes' criteria (is a disease in which the heart muscle becomes thickened.The thickened heart muscle can make it harder for the heart to pump blood.)\n",
    "* **thalach:** Maximum Heart Rate Achieved\n",
    "\n",
    "* **exang:** exercise induced angina\n",
    "\n",
    "    * Value 1 = yes\n",
    "    * Value 0 = no\n",
    "\n",
    "* **old peak:** ST depression induced by exercise relative to rest\n",
    "\n",
    "* **slp:** the slope of the peak exercise ST segment\n",
    "\n",
    "    * Value 0 = unsloping\n",
    "    * Value 1 = flat\n",
    "    * Value 2 = downsloping\n",
    "    * caa : number of major vessels (0-3) colored by flourosopy.\n",
    "\n",
    "* **thal:** thalassemia\n",
    "\n",
    "    * Value 0 = null\n",
    "    * Value 1 = fixed defect\n",
    "    * Value 2 = normal\n",
    "    * Value 3 = reversable defect\n",
    "    \n",
    "* **output/target:** diagnosis of heart attack (angiographic disease status)\n",
    "\n",
    "* **Value 0:** less chance of heart attack\n",
    "* **Value 1:** more chance of heart attack"
   ]
  },
  {
   "cell_type": "markdown",
   "id": "98d4ff76",
   "metadata": {},
   "source": [
    "# 3 Data Preparation"
   ]
  },
  {
   "cell_type": "code",
   "execution_count": 5,
   "id": "70ca0fed",
   "metadata": {},
   "outputs": [
    {
     "data": {
      "text/html": [
       "<div>\n",
       "<style scoped>\n",
       "    .dataframe tbody tr th:only-of-type {\n",
       "        vertical-align: middle;\n",
       "    }\n",
       "\n",
       "    .dataframe tbody tr th {\n",
       "        vertical-align: top;\n",
       "    }\n",
       "\n",
       "    .dataframe thead th {\n",
       "        text-align: right;\n",
       "    }\n",
       "</style>\n",
       "<table border=\"1\" class=\"dataframe\">\n",
       "  <thead>\n",
       "    <tr style=\"text-align: right;\">\n",
       "      <th></th>\n",
       "      <th>age</th>\n",
       "      <th>sex</th>\n",
       "      <th>cp</th>\n",
       "      <th>trtbps</th>\n",
       "      <th>chol</th>\n",
       "      <th>fbs</th>\n",
       "      <th>restecg</th>\n",
       "      <th>thalachh</th>\n",
       "      <th>exng</th>\n",
       "      <th>oldpeak</th>\n",
       "      <th>slp</th>\n",
       "      <th>caa</th>\n",
       "      <th>thall</th>\n",
       "      <th>output</th>\n",
       "    </tr>\n",
       "  </thead>\n",
       "  <tbody>\n",
       "    <tr>\n",
       "      <th>0</th>\n",
       "      <td>63</td>\n",
       "      <td>1</td>\n",
       "      <td>3</td>\n",
       "      <td>145</td>\n",
       "      <td>233</td>\n",
       "      <td>1</td>\n",
       "      <td>0</td>\n",
       "      <td>150</td>\n",
       "      <td>0</td>\n",
       "      <td>2.3</td>\n",
       "      <td>0</td>\n",
       "      <td>0</td>\n",
       "      <td>1</td>\n",
       "      <td>1</td>\n",
       "    </tr>\n",
       "    <tr>\n",
       "      <th>1</th>\n",
       "      <td>37</td>\n",
       "      <td>1</td>\n",
       "      <td>2</td>\n",
       "      <td>130</td>\n",
       "      <td>250</td>\n",
       "      <td>0</td>\n",
       "      <td>1</td>\n",
       "      <td>187</td>\n",
       "      <td>0</td>\n",
       "      <td>3.5</td>\n",
       "      <td>0</td>\n",
       "      <td>0</td>\n",
       "      <td>2</td>\n",
       "      <td>1</td>\n",
       "    </tr>\n",
       "    <tr>\n",
       "      <th>2</th>\n",
       "      <td>41</td>\n",
       "      <td>0</td>\n",
       "      <td>1</td>\n",
       "      <td>130</td>\n",
       "      <td>204</td>\n",
       "      <td>0</td>\n",
       "      <td>0</td>\n",
       "      <td>172</td>\n",
       "      <td>0</td>\n",
       "      <td>1.4</td>\n",
       "      <td>2</td>\n",
       "      <td>0</td>\n",
       "      <td>2</td>\n",
       "      <td>1</td>\n",
       "    </tr>\n",
       "    <tr>\n",
       "      <th>3</th>\n",
       "      <td>56</td>\n",
       "      <td>1</td>\n",
       "      <td>1</td>\n",
       "      <td>120</td>\n",
       "      <td>236</td>\n",
       "      <td>0</td>\n",
       "      <td>1</td>\n",
       "      <td>178</td>\n",
       "      <td>0</td>\n",
       "      <td>0.8</td>\n",
       "      <td>2</td>\n",
       "      <td>0</td>\n",
       "      <td>2</td>\n",
       "      <td>1</td>\n",
       "    </tr>\n",
       "    <tr>\n",
       "      <th>4</th>\n",
       "      <td>57</td>\n",
       "      <td>0</td>\n",
       "      <td>0</td>\n",
       "      <td>120</td>\n",
       "      <td>354</td>\n",
       "      <td>0</td>\n",
       "      <td>1</td>\n",
       "      <td>163</td>\n",
       "      <td>1</td>\n",
       "      <td>0.6</td>\n",
       "      <td>2</td>\n",
       "      <td>0</td>\n",
       "      <td>2</td>\n",
       "      <td>1</td>\n",
       "    </tr>\n",
       "  </tbody>\n",
       "</table>\n",
       "</div>"
      ],
      "text/plain": [
       "   age  sex  cp  trtbps  chol  fbs  restecg  thalachh  exng  oldpeak  slp  \\\n",
       "0   63    1   3     145   233    1        0       150     0      2.3    0   \n",
       "1   37    1   2     130   250    0        1       187     0      3.5    0   \n",
       "2   41    0   1     130   204    0        0       172     0      1.4    2   \n",
       "3   56    1   1     120   236    0        1       178     0      0.8    2   \n",
       "4   57    0   0     120   354    0        1       163     1      0.6    2   \n",
       "\n",
       "   caa  thall  output  \n",
       "0    0      1       1  \n",
       "1    0      2       1  \n",
       "2    0      2       1  \n",
       "3    0      2       1  \n",
       "4    0      2       1  "
      ]
     },
     "execution_count": 5,
     "metadata": {},
     "output_type": "execute_result"
    }
   ],
   "source": [
    "data.head()"
   ]
  },
  {
   "cell_type": "markdown",
   "id": "381aebc0",
   "metadata": {},
   "source": [
    "**Rename Columns**"
   ]
  },
  {
   "cell_type": "code",
   "execution_count": 6,
   "id": "cf5689af",
   "metadata": {},
   "outputs": [
    {
     "data": {
      "text/html": [
       "<div>\n",
       "<style scoped>\n",
       "    .dataframe tbody tr th:only-of-type {\n",
       "        vertical-align: middle;\n",
       "    }\n",
       "\n",
       "    .dataframe tbody tr th {\n",
       "        vertical-align: top;\n",
       "    }\n",
       "\n",
       "    .dataframe thead th {\n",
       "        text-align: right;\n",
       "    }\n",
       "</style>\n",
       "<table border=\"1\" class=\"dataframe\">\n",
       "  <thead>\n",
       "    <tr style=\"text-align: right;\">\n",
       "      <th></th>\n",
       "      <th>age</th>\n",
       "      <th>gender</th>\n",
       "      <th>chest_pain_type</th>\n",
       "      <th>resting_bp</th>\n",
       "      <th>cholesterol</th>\n",
       "      <th>fasting_blood_sugar</th>\n",
       "      <th>resting_ecg</th>\n",
       "      <th>max_heart_rate</th>\n",
       "      <th>exercise_induced_chest_pain</th>\n",
       "      <th>ST_depression</th>\n",
       "      <th>slope_of_peak_ST_segment</th>\n",
       "      <th>fluoroscopy_colored_major_vessels</th>\n",
       "      <th>thalassemia</th>\n",
       "      <th>target</th>\n",
       "    </tr>\n",
       "  </thead>\n",
       "  <tbody>\n",
       "    <tr>\n",
       "      <th>0</th>\n",
       "      <td>63</td>\n",
       "      <td>1</td>\n",
       "      <td>3</td>\n",
       "      <td>145</td>\n",
       "      <td>233</td>\n",
       "      <td>1</td>\n",
       "      <td>0</td>\n",
       "      <td>150</td>\n",
       "      <td>0</td>\n",
       "      <td>2.3</td>\n",
       "      <td>0</td>\n",
       "      <td>0</td>\n",
       "      <td>1</td>\n",
       "      <td>1</td>\n",
       "    </tr>\n",
       "    <tr>\n",
       "      <th>1</th>\n",
       "      <td>37</td>\n",
       "      <td>1</td>\n",
       "      <td>2</td>\n",
       "      <td>130</td>\n",
       "      <td>250</td>\n",
       "      <td>0</td>\n",
       "      <td>1</td>\n",
       "      <td>187</td>\n",
       "      <td>0</td>\n",
       "      <td>3.5</td>\n",
       "      <td>0</td>\n",
       "      <td>0</td>\n",
       "      <td>2</td>\n",
       "      <td>1</td>\n",
       "    </tr>\n",
       "    <tr>\n",
       "      <th>2</th>\n",
       "      <td>41</td>\n",
       "      <td>0</td>\n",
       "      <td>1</td>\n",
       "      <td>130</td>\n",
       "      <td>204</td>\n",
       "      <td>0</td>\n",
       "      <td>0</td>\n",
       "      <td>172</td>\n",
       "      <td>0</td>\n",
       "      <td>1.4</td>\n",
       "      <td>2</td>\n",
       "      <td>0</td>\n",
       "      <td>2</td>\n",
       "      <td>1</td>\n",
       "    </tr>\n",
       "    <tr>\n",
       "      <th>3</th>\n",
       "      <td>56</td>\n",
       "      <td>1</td>\n",
       "      <td>1</td>\n",
       "      <td>120</td>\n",
       "      <td>236</td>\n",
       "      <td>0</td>\n",
       "      <td>1</td>\n",
       "      <td>178</td>\n",
       "      <td>0</td>\n",
       "      <td>0.8</td>\n",
       "      <td>2</td>\n",
       "      <td>0</td>\n",
       "      <td>2</td>\n",
       "      <td>1</td>\n",
       "    </tr>\n",
       "    <tr>\n",
       "      <th>4</th>\n",
       "      <td>57</td>\n",
       "      <td>0</td>\n",
       "      <td>0</td>\n",
       "      <td>120</td>\n",
       "      <td>354</td>\n",
       "      <td>0</td>\n",
       "      <td>1</td>\n",
       "      <td>163</td>\n",
       "      <td>1</td>\n",
       "      <td>0.6</td>\n",
       "      <td>2</td>\n",
       "      <td>0</td>\n",
       "      <td>2</td>\n",
       "      <td>1</td>\n",
       "    </tr>\n",
       "  </tbody>\n",
       "</table>\n",
       "</div>"
      ],
      "text/plain": [
       "   age  gender  chest_pain_type  resting_bp  cholesterol  fasting_blood_sugar  \\\n",
       "0   63       1                3         145          233                    1   \n",
       "1   37       1                2         130          250                    0   \n",
       "2   41       0                1         130          204                    0   \n",
       "3   56       1                1         120          236                    0   \n",
       "4   57       0                0         120          354                    0   \n",
       "\n",
       "   resting_ecg  max_heart_rate  exercise_induced_chest_pain  ST_depression  \\\n",
       "0            0             150                            0            2.3   \n",
       "1            1             187                            0            3.5   \n",
       "2            0             172                            0            1.4   \n",
       "3            1             178                            0            0.8   \n",
       "4            1             163                            1            0.6   \n",
       "\n",
       "   slope_of_peak_ST_segment  fluoroscopy_colored_major_vessels  thalassemia  \\\n",
       "0                         0                                  0            1   \n",
       "1                         0                                  0            2   \n",
       "2                         2                                  0            2   \n",
       "3                         2                                  0            2   \n",
       "4                         2                                  0            2   \n",
       "\n",
       "   target  \n",
       "0       1  \n",
       "1       1  \n",
       "2       1  \n",
       "3       1  \n",
       "4       1  "
      ]
     },
     "execution_count": 6,
     "metadata": {},
     "output_type": "execute_result"
    }
   ],
   "source": [
    "# rename columns\n",
    "data = data.rename({\n",
    "    \"age\": \"age\",\n",
    "    \"sex\": \"gender\",\n",
    "    \"cp\": \"chest_pain_type\",\n",
    "    \"trtbps\": \"resting_bp\",\n",
    "    \"chol\": \"cholesterol\",\n",
    "    \"fbs\": \"fasting_blood_sugar\",\n",
    "    \"restecg\": \"resting_ecg\",\n",
    "    \"thalachh\": \"max_heart_rate\",\n",
    "    \"exng\": \"exercise_induced_chest_pain\",\n",
    "    \"oldpeak\": \"ST_depression\",\n",
    "    \"slp\": \"slope_of_peak_ST_segment\",\n",
    "    \"caa\": \"fluoroscopy_colored_major_vessels\",\n",
    "    \"thall\": \"thalassemia\",\n",
    "    \"output\": \"target\"\n",
    "},axis=1)\n",
    "\n",
    "data.head()"
   ]
  },
  {
   "cell_type": "code",
   "execution_count": 7,
   "id": "911a90ec",
   "metadata": {},
   "outputs": [],
   "source": [
    "# export data\n",
    "data.to_csv(\"cleaned_heart.csv\",index=False)"
   ]
  },
  {
   "cell_type": "code",
   "execution_count": 8,
   "id": "d80bc255",
   "metadata": {},
   "outputs": [
    {
     "data": {
      "text/html": [
       "<div>\n",
       "<style scoped>\n",
       "    .dataframe tbody tr th:only-of-type {\n",
       "        vertical-align: middle;\n",
       "    }\n",
       "\n",
       "    .dataframe tbody tr th {\n",
       "        vertical-align: top;\n",
       "    }\n",
       "\n",
       "    .dataframe thead th {\n",
       "        text-align: right;\n",
       "    }\n",
       "</style>\n",
       "<table border=\"1\" class=\"dataframe\">\n",
       "  <thead>\n",
       "    <tr style=\"text-align: right;\">\n",
       "      <th></th>\n",
       "      <th>age</th>\n",
       "      <th>gender</th>\n",
       "      <th>chest_pain_type</th>\n",
       "      <th>resting_bp</th>\n",
       "      <th>cholesterol</th>\n",
       "      <th>fasting_blood_sugar</th>\n",
       "      <th>resting_ecg</th>\n",
       "      <th>max_heart_rate</th>\n",
       "      <th>exercise_induced_chest_pain</th>\n",
       "      <th>ST_depression</th>\n",
       "      <th>slope_of_peak_ST_segment</th>\n",
       "      <th>fluoroscopy_colored_major_vessels</th>\n",
       "      <th>thalassemia</th>\n",
       "      <th>target</th>\n",
       "    </tr>\n",
       "  </thead>\n",
       "  <tbody>\n",
       "    <tr>\n",
       "      <th>0</th>\n",
       "      <td>63</td>\n",
       "      <td>1</td>\n",
       "      <td>3</td>\n",
       "      <td>145</td>\n",
       "      <td>233</td>\n",
       "      <td>1</td>\n",
       "      <td>0</td>\n",
       "      <td>150</td>\n",
       "      <td>0</td>\n",
       "      <td>2.3</td>\n",
       "      <td>0</td>\n",
       "      <td>0</td>\n",
       "      <td>1</td>\n",
       "      <td>1</td>\n",
       "    </tr>\n",
       "    <tr>\n",
       "      <th>1</th>\n",
       "      <td>37</td>\n",
       "      <td>1</td>\n",
       "      <td>2</td>\n",
       "      <td>130</td>\n",
       "      <td>250</td>\n",
       "      <td>0</td>\n",
       "      <td>1</td>\n",
       "      <td>187</td>\n",
       "      <td>0</td>\n",
       "      <td>3.5</td>\n",
       "      <td>0</td>\n",
       "      <td>0</td>\n",
       "      <td>2</td>\n",
       "      <td>1</td>\n",
       "    </tr>\n",
       "    <tr>\n",
       "      <th>2</th>\n",
       "      <td>41</td>\n",
       "      <td>0</td>\n",
       "      <td>1</td>\n",
       "      <td>130</td>\n",
       "      <td>204</td>\n",
       "      <td>0</td>\n",
       "      <td>0</td>\n",
       "      <td>172</td>\n",
       "      <td>0</td>\n",
       "      <td>1.4</td>\n",
       "      <td>2</td>\n",
       "      <td>0</td>\n",
       "      <td>2</td>\n",
       "      <td>1</td>\n",
       "    </tr>\n",
       "    <tr>\n",
       "      <th>3</th>\n",
       "      <td>56</td>\n",
       "      <td>1</td>\n",
       "      <td>1</td>\n",
       "      <td>120</td>\n",
       "      <td>236</td>\n",
       "      <td>0</td>\n",
       "      <td>1</td>\n",
       "      <td>178</td>\n",
       "      <td>0</td>\n",
       "      <td>0.8</td>\n",
       "      <td>2</td>\n",
       "      <td>0</td>\n",
       "      <td>2</td>\n",
       "      <td>1</td>\n",
       "    </tr>\n",
       "    <tr>\n",
       "      <th>4</th>\n",
       "      <td>57</td>\n",
       "      <td>0</td>\n",
       "      <td>0</td>\n",
       "      <td>120</td>\n",
       "      <td>354</td>\n",
       "      <td>0</td>\n",
       "      <td>1</td>\n",
       "      <td>163</td>\n",
       "      <td>1</td>\n",
       "      <td>0.6</td>\n",
       "      <td>2</td>\n",
       "      <td>0</td>\n",
       "      <td>2</td>\n",
       "      <td>1</td>\n",
       "    </tr>\n",
       "    <tr>\n",
       "      <th>...</th>\n",
       "      <td>...</td>\n",
       "      <td>...</td>\n",
       "      <td>...</td>\n",
       "      <td>...</td>\n",
       "      <td>...</td>\n",
       "      <td>...</td>\n",
       "      <td>...</td>\n",
       "      <td>...</td>\n",
       "      <td>...</td>\n",
       "      <td>...</td>\n",
       "      <td>...</td>\n",
       "      <td>...</td>\n",
       "      <td>...</td>\n",
       "      <td>...</td>\n",
       "    </tr>\n",
       "    <tr>\n",
       "      <th>298</th>\n",
       "      <td>57</td>\n",
       "      <td>0</td>\n",
       "      <td>0</td>\n",
       "      <td>140</td>\n",
       "      <td>241</td>\n",
       "      <td>0</td>\n",
       "      <td>1</td>\n",
       "      <td>123</td>\n",
       "      <td>1</td>\n",
       "      <td>0.2</td>\n",
       "      <td>1</td>\n",
       "      <td>0</td>\n",
       "      <td>3</td>\n",
       "      <td>0</td>\n",
       "    </tr>\n",
       "    <tr>\n",
       "      <th>299</th>\n",
       "      <td>45</td>\n",
       "      <td>1</td>\n",
       "      <td>3</td>\n",
       "      <td>110</td>\n",
       "      <td>264</td>\n",
       "      <td>0</td>\n",
       "      <td>1</td>\n",
       "      <td>132</td>\n",
       "      <td>0</td>\n",
       "      <td>1.2</td>\n",
       "      <td>1</td>\n",
       "      <td>0</td>\n",
       "      <td>3</td>\n",
       "      <td>0</td>\n",
       "    </tr>\n",
       "    <tr>\n",
       "      <th>300</th>\n",
       "      <td>68</td>\n",
       "      <td>1</td>\n",
       "      <td>0</td>\n",
       "      <td>144</td>\n",
       "      <td>193</td>\n",
       "      <td>1</td>\n",
       "      <td>1</td>\n",
       "      <td>141</td>\n",
       "      <td>0</td>\n",
       "      <td>3.4</td>\n",
       "      <td>1</td>\n",
       "      <td>2</td>\n",
       "      <td>3</td>\n",
       "      <td>0</td>\n",
       "    </tr>\n",
       "    <tr>\n",
       "      <th>301</th>\n",
       "      <td>57</td>\n",
       "      <td>1</td>\n",
       "      <td>0</td>\n",
       "      <td>130</td>\n",
       "      <td>131</td>\n",
       "      <td>0</td>\n",
       "      <td>1</td>\n",
       "      <td>115</td>\n",
       "      <td>1</td>\n",
       "      <td>1.2</td>\n",
       "      <td>1</td>\n",
       "      <td>1</td>\n",
       "      <td>3</td>\n",
       "      <td>0</td>\n",
       "    </tr>\n",
       "    <tr>\n",
       "      <th>302</th>\n",
       "      <td>57</td>\n",
       "      <td>0</td>\n",
       "      <td>1</td>\n",
       "      <td>130</td>\n",
       "      <td>236</td>\n",
       "      <td>0</td>\n",
       "      <td>0</td>\n",
       "      <td>174</td>\n",
       "      <td>0</td>\n",
       "      <td>0.0</td>\n",
       "      <td>1</td>\n",
       "      <td>1</td>\n",
       "      <td>2</td>\n",
       "      <td>0</td>\n",
       "    </tr>\n",
       "  </tbody>\n",
       "</table>\n",
       "<p>303 rows × 14 columns</p>\n",
       "</div>"
      ],
      "text/plain": [
       "     age  gender  chest_pain_type  resting_bp  cholesterol  \\\n",
       "0     63       1                3         145          233   \n",
       "1     37       1                2         130          250   \n",
       "2     41       0                1         130          204   \n",
       "3     56       1                1         120          236   \n",
       "4     57       0                0         120          354   \n",
       "..   ...     ...              ...         ...          ...   \n",
       "298   57       0                0         140          241   \n",
       "299   45       1                3         110          264   \n",
       "300   68       1                0         144          193   \n",
       "301   57       1                0         130          131   \n",
       "302   57       0                1         130          236   \n",
       "\n",
       "     fasting_blood_sugar  resting_ecg  max_heart_rate  \\\n",
       "0                      1            0             150   \n",
       "1                      0            1             187   \n",
       "2                      0            0             172   \n",
       "3                      0            1             178   \n",
       "4                      0            1             163   \n",
       "..                   ...          ...             ...   \n",
       "298                    0            1             123   \n",
       "299                    0            1             132   \n",
       "300                    1            1             141   \n",
       "301                    0            1             115   \n",
       "302                    0            0             174   \n",
       "\n",
       "     exercise_induced_chest_pain  ST_depression  slope_of_peak_ST_segment  \\\n",
       "0                              0            2.3                         0   \n",
       "1                              0            3.5                         0   \n",
       "2                              0            1.4                         2   \n",
       "3                              0            0.8                         2   \n",
       "4                              1            0.6                         2   \n",
       "..                           ...            ...                       ...   \n",
       "298                            1            0.2                         1   \n",
       "299                            0            1.2                         1   \n",
       "300                            0            3.4                         1   \n",
       "301                            1            1.2                         1   \n",
       "302                            0            0.0                         1   \n",
       "\n",
       "     fluoroscopy_colored_major_vessels  thalassemia  target  \n",
       "0                                    0            1       1  \n",
       "1                                    0            2       1  \n",
       "2                                    0            2       1  \n",
       "3                                    0            2       1  \n",
       "4                                    0            2       1  \n",
       "..                                 ...          ...     ...  \n",
       "298                                  0            3       0  \n",
       "299                                  0            3       0  \n",
       "300                                  2            3       0  \n",
       "301                                  1            3       0  \n",
       "302                                  1            2       0  \n",
       "\n",
       "[303 rows x 14 columns]"
      ]
     },
     "execution_count": 8,
     "metadata": {},
     "output_type": "execute_result"
    }
   ],
   "source": [
    "pd.read_csv(\"cleaned_heart.csv\")"
   ]
  },
  {
   "cell_type": "markdown",
   "id": "5106d4b3",
   "metadata": {},
   "source": [
    "### 3.1 Data information"
   ]
  },
  {
   "cell_type": "code",
   "execution_count": 9,
   "id": "678873ba",
   "metadata": {},
   "outputs": [
    {
     "name": "stdout",
     "output_type": "stream",
     "text": [
      "<class 'pandas.core.frame.DataFrame'>\n",
      "RangeIndex: 303 entries, 0 to 302\n",
      "Data columns (total 14 columns):\n",
      " #   Column                             Non-Null Count  Dtype  \n",
      "---  ------                             --------------  -----  \n",
      " 0   age                                303 non-null    int64  \n",
      " 1   gender                             303 non-null    int64  \n",
      " 2   chest_pain_type                    303 non-null    int64  \n",
      " 3   resting_bp                         303 non-null    int64  \n",
      " 4   cholesterol                        303 non-null    int64  \n",
      " 5   fasting_blood_sugar                303 non-null    int64  \n",
      " 6   resting_ecg                        303 non-null    int64  \n",
      " 7   max_heart_rate                     303 non-null    int64  \n",
      " 8   exercise_induced_chest_pain        303 non-null    int64  \n",
      " 9   ST_depression                      303 non-null    float64\n",
      " 10  slope_of_peak_ST_segment           303 non-null    int64  \n",
      " 11  fluoroscopy_colored_major_vessels  303 non-null    int64  \n",
      " 12  thalassemia                        303 non-null    int64  \n",
      " 13  target                             303 non-null    int64  \n",
      "dtypes: float64(1), int64(13)\n",
      "memory usage: 33.3 KB\n"
     ]
    }
   ],
   "source": [
    "# data info\n",
    "data.info()"
   ]
  },
  {
   "cell_type": "markdown",
   "id": "61453555",
   "metadata": {},
   "source": [
    "### 3.2 Variance check"
   ]
  },
  {
   "cell_type": "code",
   "execution_count": 10,
   "id": "0f173e7a",
   "metadata": {},
   "outputs": [
    {
     "data": {
      "text/plain": [
       "fasting_blood_sugar                     0.126877\n",
       "gender                                  0.217166\n",
       "exercise_induced_chest_pain             0.220707\n",
       "target                                  0.248836\n",
       "resting_ecg                             0.276528\n",
       "thalassemia                             0.374883\n",
       "slope_of_peak_ST_segment                0.379735\n",
       "fluoroscopy_colored_major_vessels       1.045724\n",
       "chest_pain_type                         1.065132\n",
       "ST_depression                           1.348095\n",
       "age                                    82.484558\n",
       "resting_bp                            307.586453\n",
       "max_heart_rate                        524.646406\n",
       "cholesterol                          2686.426748\n",
       "dtype: float64"
      ]
     },
     "execution_count": 10,
     "metadata": {},
     "output_type": "execute_result"
    }
   ],
   "source": [
    "# variance\n",
    "data.var().sort_values()"
   ]
  },
  {
   "cell_type": "markdown",
   "id": "e390a4ba",
   "metadata": {},
   "source": [
    "### 3.3 Outliers check"
   ]
  },
  {
   "cell_type": "code",
   "execution_count": 11,
   "id": "3b7107c9",
   "metadata": {},
   "outputs": [
    {
     "data": {
      "text/plain": [
       "gender                                 2\n",
       "fasting_blood_sugar                    2\n",
       "exercise_induced_chest_pain            2\n",
       "target                                 2\n",
       "resting_ecg                            3\n",
       "slope_of_peak_ST_segment               3\n",
       "chest_pain_type                        4\n",
       "thalassemia                            4\n",
       "fluoroscopy_colored_major_vessels      5\n",
       "ST_depression                         40\n",
       "age                                   41\n",
       "resting_bp                            49\n",
       "max_heart_rate                        91\n",
       "cholesterol                          152\n",
       "dtype: int64"
      ]
     },
     "execution_count": 11,
     "metadata": {},
     "output_type": "execute_result"
    }
   ],
   "source": [
    "# no. of unique data per variable\n",
    "data.nunique().sort_values()"
   ]
  },
  {
   "cell_type": "code",
   "execution_count": 12,
   "id": "ae385253",
   "metadata": {},
   "outputs": [
    {
     "data": {
      "text/plain": [
       "cholesterol    246.264026\n",
       "dtype: float64"
      ]
     },
     "execution_count": 12,
     "metadata": {},
     "output_type": "execute_result"
    }
   ],
   "source": [
    "data[[\"cholesterol\"]].mean()"
   ]
  },
  {
   "cell_type": "code",
   "execution_count": 13,
   "id": "41e2016f",
   "metadata": {},
   "outputs": [],
   "source": [
    "target_column = \"target\"\n",
    "categorical_columns = [\"gender\",\"fasting_blood_sugar\",\"exercise_induced_chest_pain\",\"resting_ecg\",\n",
    "                       \"slope_of_peak_ST_segment\",\"chest_pain_type\",\"thalassemia\",\n",
    "                       \"fluoroscopy_colored_major_vessels\"]\n",
    "numerical_columns = [\"ST_depression\",\"age\",\"resting_bp\",\"max_heart_rate\",\"cholesterol\"]"
   ]
  },
  {
   "cell_type": "code",
   "execution_count": 14,
   "id": "55ea697e",
   "metadata": {},
   "outputs": [
    {
     "data": {
      "image/png": "[encoded data removed]",
      "text/plain": [
       "<Figure size 1500x500 with 6 Axes>"
      ]
     },
     "metadata": {},
     "output_type": "display_data"
    }
   ],
   "source": [
    "# box plot\n",
    "def my_boxplots(dataset, columns_list, rows, cols, suptitle):\n",
    "    fig, axs = plt.subplots(rows, cols, sharey=True, figsize=(15,5))\n",
    "    fig.suptitle(suptitle,y=1, size=25)\n",
    "    axs = axs.flatten()\n",
    "    \n",
    "    for i, data in enumerate(columns_list):\n",
    "        sns.boxplot(data=dataset[data], orient='h', ax=axs[i])\n",
    "        \n",
    "        axs[i].set_title(data + ', skewness is: '+str(round(dataset[data].skew(axis = 0, skipna = True),2)))\n",
    "        \n",
    "my_boxplots(dataset=data, columns_list=numerical_columns, rows=2, cols=3, suptitle='Boxplots')\n",
    "plt.tight_layout()"
   ]
  },
  {
   "cell_type": "markdown",
   "id": "8055b9b4",
   "metadata": {},
   "source": [
    "### 3.4 Missing Value check"
   ]
  },
  {
   "cell_type": "code",
   "execution_count": 15,
   "id": "682bdade",
   "metadata": {},
   "outputs": [
    {
     "data": {
      "text/plain": [
       "age                                  0\n",
       "gender                               0\n",
       "chest_pain_type                      0\n",
       "resting_bp                           0\n",
       "cholesterol                          0\n",
       "fasting_blood_sugar                  0\n",
       "resting_ecg                          0\n",
       "max_heart_rate                       0\n",
       "exercise_induced_chest_pain          0\n",
       "ST_depression                        0\n",
       "slope_of_peak_ST_segment             0\n",
       "fluoroscopy_colored_major_vessels    0\n",
       "thalassemia                          0\n",
       "target                               0\n",
       "dtype: int64"
      ]
     },
     "execution_count": 15,
     "metadata": {},
     "output_type": "execute_result"
    }
   ],
   "source": [
    "data.isna().sum()"
   ]
  },
  {
   "cell_type": "markdown",
   "id": "20efd308",
   "metadata": {},
   "source": [
    "### 3.5 Duplicate Value check"
   ]
  },
  {
   "cell_type": "code",
   "execution_count": 16,
   "id": "6a4a6258",
   "metadata": {},
   "outputs": [
    {
     "data": {
      "text/html": [
       "<div>\n",
       "<style scoped>\n",
       "    .dataframe tbody tr th:only-of-type {\n",
       "        vertical-align: middle;\n",
       "    }\n",
       "\n",
       "    .dataframe tbody tr th {\n",
       "        vertical-align: top;\n",
       "    }\n",
       "\n",
       "    .dataframe thead th {\n",
       "        text-align: right;\n",
       "    }\n",
       "</style>\n",
       "<table border=\"1\" class=\"dataframe\">\n",
       "  <thead>\n",
       "    <tr style=\"text-align: right;\">\n",
       "      <th></th>\n",
       "      <th>age</th>\n",
       "      <th>gender</th>\n",
       "      <th>chest_pain_type</th>\n",
       "      <th>resting_bp</th>\n",
       "      <th>cholesterol</th>\n",
       "      <th>fasting_blood_sugar</th>\n",
       "      <th>resting_ecg</th>\n",
       "      <th>max_heart_rate</th>\n",
       "      <th>exercise_induced_chest_pain</th>\n",
       "      <th>ST_depression</th>\n",
       "      <th>slope_of_peak_ST_segment</th>\n",
       "      <th>fluoroscopy_colored_major_vessels</th>\n",
       "      <th>thalassemia</th>\n",
       "      <th>target</th>\n",
       "    </tr>\n",
       "  </thead>\n",
       "  <tbody>\n",
       "    <tr>\n",
       "      <th>164</th>\n",
       "      <td>38</td>\n",
       "      <td>1</td>\n",
       "      <td>2</td>\n",
       "      <td>138</td>\n",
       "      <td>175</td>\n",
       "      <td>0</td>\n",
       "      <td>1</td>\n",
       "      <td>173</td>\n",
       "      <td>0</td>\n",
       "      <td>0.0</td>\n",
       "      <td>2</td>\n",
       "      <td>4</td>\n",
       "      <td>2</td>\n",
       "      <td>1</td>\n",
       "    </tr>\n",
       "  </tbody>\n",
       "</table>\n",
       "</div>"
      ],
      "text/plain": [
       "     age  gender  chest_pain_type  resting_bp  cholesterol  \\\n",
       "164   38       1                2         138          175   \n",
       "\n",
       "     fasting_blood_sugar  resting_ecg  max_heart_rate  \\\n",
       "164                    0            1             173   \n",
       "\n",
       "     exercise_induced_chest_pain  ST_depression  slope_of_peak_ST_segment  \\\n",
       "164                            0            0.0                         2   \n",
       "\n",
       "     fluoroscopy_colored_major_vessels  thalassemia  target  \n",
       "164                                  4            2       1  "
      ]
     },
     "execution_count": 16,
     "metadata": {},
     "output_type": "execute_result"
    }
   ],
   "source": [
    "data[data.duplicated()]"
   ]
  },
  {
   "cell_type": "code",
   "execution_count": 17,
   "id": "cfc982f5",
   "metadata": {},
   "outputs": [],
   "source": [
    "data.drop_duplicates(inplace=True)"
   ]
  },
  {
   "cell_type": "markdown",
   "id": "e5272b4a",
   "metadata": {},
   "source": [
    "### 3.6 Data Imbalance check"
   ]
  },
  {
   "cell_type": "code",
   "execution_count": 18,
   "id": "18f861f3",
   "metadata": {},
   "outputs": [
    {
     "data": {
      "text/plain": [
       "1    164\n",
       "0    138\n",
       "Name: target, dtype: int64"
      ]
     },
     "execution_count": 18,
     "metadata": {},
     "output_type": "execute_result"
    }
   ],
   "source": [
    "# distribution of target\n",
    "data[\"target\"].value_counts()"
   ]
  },
  {
   "cell_type": "code",
   "execution_count": 19,
   "id": "ed61f9e2",
   "metadata": {},
   "outputs": [
    {
     "data": {
      "image/png": "[encoded data removed]",
      "text/plain": [
       "<Figure size 700x700 with 1 Axes>"
      ]
     },
     "metadata": {},
     "output_type": "display_data"
    }
   ],
   "source": [
    "fig = plt.figure(figsize=(7,7))\n",
    "plt.pie(data[\"target\"].value_counts(),labels=[\"Risk\",\"No Risk\"], colors=[\"red\",\"deepskyblue\"], \n",
    "        autopct=\"%.2f\",startangle=90, explode=[0.01,0.01])\n",
    "plt.title(\"Heart Attack: Risk vs No Risk\")\n",
    "plt.show()"
   ]
  },
  {
   "cell_type": "markdown",
   "id": "4c8e8423",
   "metadata": {},
   "source": [
    "### 3.7 Pairplot"
   ]
  },
  {
   "cell_type": "code",
   "execution_count": null,
   "id": "875cb75b",
   "metadata": {},
   "outputs": [],
   "source": [
    "# pairplot\n",
    "sns.pairplot(data, corner=True,hue=\"target\")\n",
    "plt.show()"
   ]
  },
  {
   "cell_type": "markdown",
   "id": "46b59048",
   "metadata": {},
   "source": [
    "### 3.8 Correlation"
   ]
  },
  {
   "cell_type": "code",
   "execution_count": null,
   "id": "9c22b18f",
   "metadata": {},
   "outputs": [],
   "source": [
    "# corr\n",
    "data.corr()"
   ]
  },
  {
   "cell_type": "code",
   "execution_count": null,
   "id": "80200c74",
   "metadata": {},
   "outputs": [],
   "source": [
    "# correlation with heatmap\n",
    "fig = plt.figure(figsize=(10,6))\n",
    "sns.heatmap(data.corr(),linewidths=0.2 ,annot=True,fmt=\".2f\", vmin=-1,vmax=1)\n",
    "plt.show()"
   ]
  },
  {
   "cell_type": "markdown",
   "id": "dde69db4",
   "metadata": {},
   "source": [
    "### 3.9 Splitting Data"
   ]
  },
  {
   "cell_type": "code",
   "execution_count": null,
   "id": "63c58817",
   "metadata": {},
   "outputs": [],
   "source": [
    "X = data.drop(\"target\",axis=1)\n",
    "y = data[\"target\"]"
   ]
  },
  {
   "cell_type": "code",
   "execution_count": null,
   "id": "ea088cc6",
   "metadata": {},
   "outputs": [],
   "source": [
    "X.describe().T[[\"min\",\"max\"]].sort_values(\"min\")"
   ]
  },
  {
   "cell_type": "markdown",
   "id": "1699ca50",
   "metadata": {},
   "source": [
    "### 3.10 Scaling Data"
   ]
  },
  {
   "cell_type": "code",
   "execution_count": null,
   "id": "c6212052",
   "metadata": {},
   "outputs": [],
   "source": [
    "X[X.columns] = preprocessing.MinMaxScaler(feature_range=(0,3)).fit_transform(X)"
   ]
  },
  {
   "cell_type": "markdown",
   "id": "82f82784",
   "metadata": {},
   "source": [
    "### 3.11 Train Test Split"
   ]
  },
  {
   "cell_type": "code",
   "execution_count": null,
   "id": "20b0c7ab",
   "metadata": {},
   "outputs": [],
   "source": [
    "X_train,X_test,y_train,y_test = model_selection.train_test_split(X,y,test_size=0.2,random_state=11)"
   ]
  },
  {
   "cell_type": "code",
   "execution_count": null,
   "id": "a58735f7",
   "metadata": {},
   "outputs": [],
   "source": [
    "X.describe().T[[\"min\",\"max\"]].sort_values(\"min\")"
   ]
  },
  {
   "cell_type": "markdown",
   "id": "f910ae30",
   "metadata": {},
   "source": [
    "# 4 Modelling "
   ]
  },
  {
   "cell_type": "code",
   "execution_count": null,
   "id": "cb521ca7",
   "metadata": {},
   "outputs": [],
   "source": [
    "data.age.max()"
   ]
  },
  {
   "cell_type": "markdown",
   "id": "becd6793",
   "metadata": {},
   "source": [
    "## 4.1 Logistic Regression"
   ]
  },
  {
   "cell_type": "code",
   "execution_count": null,
   "id": "15090c56",
   "metadata": {},
   "outputs": [],
   "source": [
    "# model instance\n",
    "model = linear_model.LogisticRegression(penalty ='l2', C=1, solver='liblinear', random_state=11, max_iter=10000)\n",
    "\n",
    "# hyperparameter space\n",
    "param_grid = dict(\n",
    "    penalty=['l1','l2'],   # before optimization penalty=['l1', 'l2'],\n",
    "    C=[1,2],    # before optimization C=[0.1, 1, 10],\n",
    ")\n",
    "\n",
    "# k-fold instance\n",
    "k_fold = model_selection.KFold(n_splits=5,shuffle=True,random_state=11)\n",
    "\n",
    "# k-fold GridSearchCV\n",
    "grid_search = model_selection.GridSearchCV(\n",
    "    model,\n",
    "    param_grid=param_grid,\n",
    "    scoring=\"recall\",\n",
    "    refit = True,\n",
    "    cv = k_fold\n",
    "\n",
    ")\n",
    "\n",
    "# training data\n",
    "grid_search.fit(X_train,y_train)\n",
    "\n",
    "# best parameters\n",
    "print(f\"best parameters: {grid_search.best_params_}\\n\")\n",
    "\n",
    "# best score\n",
    "print(f\"best score: {grid_search.best_score_}\")"
   ]
  },
  {
   "cell_type": "code",
   "execution_count": null,
   "id": "2cabdf02",
   "metadata": {},
   "outputs": [],
   "source": [
    "results = pd.DataFrame(grid_search.cv_results_)[[\"params\",\"mean_test_score\",\"std_test_score\"]].sort_values(by = \"mean_test_score\",ascending=False)\n",
    "results.head()"
   ]
  },
  {
   "cell_type": "code",
   "execution_count": null,
   "id": "248f0595",
   "metadata": {},
   "outputs": [],
   "source": [
    "# prediction\n",
    "y_pred = grid_search.predict(X_test)\n",
    "\n",
    "# metrics\n",
    "accuracy = metrics.accuracy_score(y_test,y_pred)\n",
    "recall = metrics.recall_score(y_test,y_pred)\n",
    "precision = metrics.precision_score(y_test,y_pred)\n",
    "f1_score = metrics.f1_score(y_test,y_pred)\n",
    "\n",
    "\n",
    "print(f\"Accuracy: {accuracy}\")\n",
    "print(f\"Recall: {recall}\")\n",
    "print(f\"Precision: {precision}\")\n",
    "print(f\"F1 Score: {f1_score}\")"
   ]
  },
  {
   "cell_type": "code",
   "execution_count": null,
   "id": "e2eb03d5",
   "metadata": {},
   "outputs": [],
   "source": [
    "confusion_matrix = metrics.confusion_matrix(y_test,y_pred)\n",
    "confusion_matrix"
   ]
  },
  {
   "cell_type": "markdown",
   "id": "a2ac3409",
   "metadata": {},
   "source": [
    "### 4.1.1 Feature Selection"
   ]
  },
  {
   "cell_type": "code",
   "execution_count": null,
   "id": "4aef992e",
   "metadata": {},
   "outputs": [],
   "source": [
    "model = ensemble.RandomForestClassifier(n_estimators=100,random_state=11)\n",
    "rfe = feature_selection.RFE(model,n_features_to_select=12,verbose=2)\n",
    "rfe.fit(X_train,y_train)"
   ]
  },
  {
   "cell_type": "code",
   "execution_count": null,
   "id": "051a6abc",
   "metadata": {},
   "outputs": [],
   "source": [
    "rfe.get_feature_names_out()"
   ]
  },
  {
   "cell_type": "markdown",
   "id": "07e6d011",
   "metadata": {},
   "source": [
    "### 4.1.2 Re-Modelling"
   ]
  },
  {
   "cell_type": "code",
   "execution_count": null,
   "id": "b7bb561c",
   "metadata": {},
   "outputs": [],
   "source": [
    "# model instance\n",
    "model = linear_model.LogisticRegression(penalty ='l2', C=1, solver='liblinear', random_state=11, max_iter=10000)\n",
    "\n",
    "# hyperparameter space\n",
    "param_grid = dict(\n",
    "    penalty=['l1','l2'],   # before optimization penalty=['l1', 'l2'],\n",
    "    C=[1,2],    # before optimization C=[0.1, 1, 10],\n",
    ")\n",
    "\n",
    "# k-fold instance\n",
    "k_fold = model_selection.KFold(n_splits=5,shuffle=True,random_state=11)\n",
    "\n",
    "# k-fold GridSearchCV\n",
    "grid_search = model_selection.GridSearchCV(\n",
    "    model,\n",
    "    param_grid=param_grid,\n",
    "    scoring=\"recall\",\n",
    "    refit = True,\n",
    "    cv = k_fold\n",
    ")\n",
    "\n",
    "# training data\n",
    "grid_search.fit(X_train[rfe.get_feature_names_out()],y_train)\n",
    "\n",
    "# best parameters\n",
    "print(f\"best parameters: {grid_search.best_params_}\\n\")\n",
    "\n",
    "# best score\n",
    "print(f\"best score: {grid_search.best_score_}\")"
   ]
  },
  {
   "cell_type": "code",
   "execution_count": null,
   "id": "e11052a0",
   "metadata": {},
   "outputs": [],
   "source": [
    "# prediction\n",
    "y_pred = grid_search.predict(X_test[rfe.get_feature_names_out()])\n",
    "\n",
    "# metrics\n",
    "accuracy = metrics.accuracy_score(y_test,y_pred)\n",
    "recall = metrics.recall_score(y_test,y_pred)\n",
    "precision = metrics.precision_score(y_test,y_pred)\n",
    "f1_score = metrics.f1_score(y_test,y_pred)\n",
    "\n",
    "\n",
    "print(f\"Accuracy: {accuracy}\")\n",
    "print(f\"Recall: {recall}\")\n",
    "print(f\"Precision: {precision}\")\n",
    "print(f\"F1 Score: {f1_score}\")"
   ]
  },
  {
   "cell_type": "code",
   "execution_count": null,
   "id": "1d285e88",
   "metadata": {},
   "outputs": [],
   "source": [
    "confusion_matrix = metrics.confusion_matrix(y_test,y_pred)\n",
    "confusion_matrix"
   ]
  },
  {
   "cell_type": "markdown",
   "id": "c9b2e3be",
   "metadata": {},
   "source": [
    "## 4.2 Random Forest Classifier "
   ]
  },
  {
   "cell_type": "code",
   "execution_count": null,
   "id": "2fbcab7d",
   "metadata": {
    "scrolled": true
   },
   "outputs": [],
   "source": [
    "# model instance\n",
    "model = ensemble.RandomForestClassifier(n_estimators=100,random_state=11)\n",
    "\n",
    "# k-fold\n",
    "k_fold = model_selection.KFold(n_splits=5, shuffle= True, random_state=11)\n",
    "\n",
    "# parameter grid\n",
    "param_grid = dict(\n",
    "    n_estimators = [100,110,120,130,140], # before tuning n_estimators = [130,150,170,190,200],\n",
    "    max_depth = [6,8,10],                 # before tuning max_depth = [8,10,12,14],\n",
    "    min_samples_split = [4],              # before tuning min_samples_split = [3,4,5,6],\n",
    "    min_samples_leaf = [1],               # before tuning min_samples_leaf = [1,2,3],\n",
    "    random_state = [13]\n",
    ")\n",
    "\n",
    "# parameter grid\n",
    "search = model_selection.GridSearchCV(\n",
    "    model,\n",
    "    param_grid=param_grid,\n",
    "    scoring = \"recall\",\n",
    "    refit=True,\n",
    "    verbose=2\n",
    ")\n",
    "\n",
    "# train model\n",
    "search.fit(X_train[rfe.get_feature_names_out()],y_train)"
   ]
  },
  {
   "cell_type": "code",
   "execution_count": null,
   "id": "67aab510",
   "metadata": {},
   "outputs": [],
   "source": [
    "# best params\n",
    "print(f\"best params: {search.best_params_}\\n\")\n",
    "\n",
    "# best score\n",
    "print(f\"best score: {search.best_score_}\\n\")"
   ]
  },
  {
   "cell_type": "code",
   "execution_count": null,
   "id": "4a314f23",
   "metadata": {},
   "outputs": [],
   "source": [
    "results = pd.DataFrame(grid_search.cv_results_)[[\"params\",\"mean_test_score\",\"std_test_score\"]].sort_values(by = \"mean_test_score\",ascending=False)\n",
    "results.head()"
   ]
  },
  {
   "cell_type": "code",
   "execution_count": null,
   "id": "a035a717",
   "metadata": {
    "scrolled": true
   },
   "outputs": [],
   "source": [
    "# predictions\n",
    "y_pred = search.predict(X_test[rfe.get_feature_names_out()])\n",
    "\n",
    "# metrics\n",
    "accuracy = metrics.accuracy_score(y_test,y_pred)\n",
    "recall = metrics.recall_score(y_test,y_pred)\n",
    "precision = metrics.precision_score(y_test,y_pred)\n",
    "f1_score = metrics.f1_score(y_test,y_pred)\n",
    "\n",
    "\n",
    "print(f\"Accuracy: {accuracy}\")\n",
    "print(f\"Recall: {recall}\")\n",
    "print(f\"Precision: {precision}\")\n",
    "print(f\"F1 Score: {f1_score}\")"
   ]
  },
  {
   "cell_type": "code",
   "execution_count": null,
   "id": "5aef63d8",
   "metadata": {},
   "outputs": [],
   "source": [
    "confusion_matrix = metrics.confusion_matrix(y_test,y_pred)\n",
    "confusion_matrix"
   ]
  },
  {
   "cell_type": "markdown",
   "id": "43f62b5e",
   "metadata": {},
   "source": [
    "### 4.2.1 Feature Selection"
   ]
  },
  {
   "cell_type": "code",
   "execution_count": null,
   "id": "95b58ee9",
   "metadata": {},
   "outputs": [],
   "source": [
    "model = ensemble.RandomForestClassifier(n_estimators=100,random_state=11)\n",
    "rfe = feature_selection.RFE(model,n_features_to_select=10,verbose=2)\n",
    "rfe.fit(X_train,y_train)"
   ]
  },
  {
   "cell_type": "code",
   "execution_count": null,
   "id": "e5385046",
   "metadata": {},
   "outputs": [],
   "source": [
    "rfe.get_feature_names_out()"
   ]
  },
  {
   "cell_type": "markdown",
   "id": "cecc987e",
   "metadata": {},
   "source": [
    "### 4.2.2 Re-Modelling"
   ]
  },
  {
   "cell_type": "code",
   "execution_count": null,
   "id": "5dd7141e",
   "metadata": {
    "scrolled": true
   },
   "outputs": [],
   "source": [
    "# model instance\n",
    "model = ensemble.RandomForestClassifier(n_estimators=100,random_state=11)\n",
    "\n",
    "# k-fold\n",
    "k_fold = model_selection.KFold(n_splits=5, shuffle= True, random_state=11)\n",
    "\n",
    "# parameter grid\n",
    "param_grid = dict(\n",
    "    n_estimators = [100,110,120,130,140], # before tuning n_estimators = [130,150,170,190,200],\n",
    "    max_depth = [6,8,10],                 # before tuning max_depth = [8,10,12,14],\n",
    "    min_samples_split = [4],              # before tuning min_samples_split = [3,4,5,6],\n",
    "    min_samples_leaf = [1],               # before tuning min_samples_leaf = [1,2,3],\n",
    "    random_state = [13]\n",
    ")\n",
    "\n",
    "# parameter grid\n",
    "search = model_selection.GridSearchCV(\n",
    "    model,\n",
    "    param_grid=param_grid,\n",
    "    scoring = \"recall\",\n",
    "    refit=True,\n",
    "    verbose=2\n",
    ")\n",
    "\n",
    "# train model\n",
    "search.fit(X_train[rfe.get_feature_names_out()],y_train)"
   ]
  },
  {
   "cell_type": "code",
   "execution_count": null,
   "id": "53522a06",
   "metadata": {},
   "outputs": [],
   "source": [
    "# best params\n",
    "print(f\"best params: {search.best_params_}\\n\")\n",
    "\n",
    "# best score\n",
    "print(f\"best score: {search.best_score_}\\n\")"
   ]
  },
  {
   "cell_type": "code",
   "execution_count": null,
   "id": "e437c151",
   "metadata": {},
   "outputs": [],
   "source": [
    "results = pd.DataFrame(grid_search.cv_results_)[[\"params\",\"mean_test_score\",\"std_test_score\"]].sort_values(by = \"mean_test_score\",ascending=False)\n",
    "results.head()"
   ]
  },
  {
   "cell_type": "code",
   "execution_count": null,
   "id": "a505e72e",
   "metadata": {},
   "outputs": [],
   "source": [
    "# predictions\n",
    "y_pred = search.predict(X_test[rfe.get_feature_names_out()])\n",
    "\n",
    "# metrics\n",
    "accuracy = metrics.accuracy_score(y_test,y_pred)\n",
    "recall = metrics.recall_score(y_test,y_pred)\n",
    "precision = metrics.precision_score(y_test,y_pred)\n",
    "f1_score = metrics.f1_score(y_test,y_pred)\n",
    "\n",
    "\n",
    "print(f\"Accuracy: {accuracy}\")\n",
    "print(f\"Recall: {recall}\")\n",
    "print(f\"Precision: {precision}\")\n",
    "print(f\"F1 Score: {f1_score}\")"
   ]
  },
  {
   "cell_type": "code",
   "execution_count": null,
   "id": "c00afacd",
   "metadata": {},
   "outputs": [],
   "source": [
    "confusion_matrix = metrics.confusion_matrix(y_test,y_pred)\n",
    "confusion_matrix"
   ]
  },
  {
   "cell_type": "code",
   "execution_count": null,
   "id": "ef3174b0",
   "metadata": {},
   "outputs": [],
   "source": [
    "def user(data):\n",
    "    data = {\n",
    "        \"Gender\": data.gender,\n",
    "        \"Fasting Blood Sugar\": data.fasting_blood_sugar,\n",
    "        \"Exercise Induced Chest Pain\": data.exercise_induced_chest_pain,\n",
    "        \"Resting ECG\": data.resting_ecg,\n",
    "        \"Slope of peak ST Segment\": data.slope_of_peak_ST_segment,\n",
    "        \"Chest Pain Type\": data.chest_pain_type,\n",
    "        \"Thalassemia\": data.thalassemia,\n",
    "        \"Fluoroscopy colored major vessels\": data.fluoroscopy_colored_major_vessels,\n",
    "        \"ST depression\": data.ST_depression,\n",
    "        \"Age\": data.age,\n",
    "        \"Resting Blood Pressure\": data.resting_bp,\n",
    "        \"Max Heart Rate Achieved\": data.max_heart_rate,\n",
    "        \"Cholesterol\": data.cholesterol\n",
    "    }\n",
    "\n",
    "    features = pd.DataFrame(data, index=[0])\n",
    "    return features"
   ]
  },
  {
   "cell_type": "code",
   "execution_count": null,
   "id": "7a7afee7",
   "metadata": {},
   "outputs": [],
   "source": [
    "df  = user(data)"
   ]
  },
  {
   "cell_type": "code",
   "execution_count": null,
   "id": "e37902a1",
   "metadata": {},
   "outputs": [],
   "source": [
    "df.T"
   ]
  },
  {
   "cell_type": "code",
   "execution_count": null,
   "id": "75cd1d93",
   "metadata": {},
   "outputs": [],
   "source": [
    "a = df.T"
   ]
  },
  {
   "cell_type": "code",
   "execution_count": null,
   "id": "762c2a2f",
   "metadata": {},
   "outputs": [],
   "source": [
    "a.columns = [\"Selected Values\"]\n"
   ]
  },
  {
   "cell_type": "code",
   "execution_count": null,
   "id": "b09bd9af",
   "metadata": {},
   "outputs": [],
   "source": [
    "a.index.name = \"Features\""
   ]
  },
  {
   "cell_type": "code",
   "execution_count": null,
   "id": "bc8a8283",
   "metadata": {},
   "outputs": [],
   "source": [
    "a"
   ]
  },
  {
   "cell_type": "code",
   "execution_count": null,
   "id": "b8b3f953",
   "metadata": {},
   "outputs": [],
   "source": [
    "int(df[\"Max Heart Rate Achieved\"].values)"
   ]
  },
  {
   "cell_type": "code",
   "execution_count": null,
   "id": "2e0b1137",
   "metadata": {},
   "outputs": [],
   "source": [
    "int(data[\"Resting Blood Pressure\"].values)"
   ]
  },
  {
   "cell_type": "code",
   "execution_count": null,
   "id": "e840d4c8",
   "metadata": {},
   "outputs": [],
   "source": []
  },
  {
   "cell_type": "code",
   "execution_count": null,
   "id": "36635593",
   "metadata": {},
   "outputs": [],
   "source": []
  },
  {
   "cell_type": "code",
   "execution_count": null,
   "id": "60e671fe",
   "metadata": {},
   "outputs": [],
   "source": []
  },
  {
   "cell_type": "code",
   "execution_count": null,
   "id": "98880569",
   "metadata": {},
   "outputs": [],
   "source": []
  },
  {
   "cell_type": "code",
   "execution_count": null,
   "id": "bcea84aa",
   "metadata": {},
   "outputs": [],
   "source": []
  },
  {
   "cell_type": "code",
   "execution_count": null,
   "id": "a10c8bc3",
   "metadata": {},
   "outputs": [],
   "source": []
  },
  {
   "cell_type": "code",
   "execution_count": null,
   "id": "829bab83",
   "metadata": {},
   "outputs": [],
   "source": []
  }
 ],
 "metadata": {
  "kernelspec": {
   "display_name": "Python 3 (ipykernel)",
   "language": "python",
   "name": "python3"
  },
  "language_info": {
   "codemirror_mode": {
    "name": "ipython",
    "version": 3
   },
   "file_extension": ".py",
   "mimetype": "text/x-python",
   "name": "python",
   "nbconvert_exporter": "python",
   "pygments_lexer": "ipython3",
   "version": "3.11.1"
  }
 },
 "nbformat": 4,
 "nbformat_minor": 5
}
